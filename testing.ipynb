{
 "cells": [
  {
   "cell_type": "code",
   "execution_count": 1,
   "metadata": {},
   "outputs": [],
   "source": [
    "\n",
    "from src.dataset import Raven\n",
    "from src.model import CLIP\n",
    "from PIL import Image\n",
    "import numpy as np\n",
    "import requests\n",
    "import matplotlib.pyplot as plt\n",
    "import cv2\n",
    "from src.const import SHAPES, ANGLES, SIZES, COLORS\n",
    "\n",
    "%matplotlib inline"
   ]
  },
  {
   "cell_type": "code",
   "execution_count": 2,
   "metadata": {},
   "outputs": [],
   "source": [
    "PATH = './dataset/RAVEN-10000/'\n",
    "fig_types = ['center_single']"
   ]
  },
  {
   "cell_type": "code",
   "execution_count": 3,
   "metadata": {},
   "outputs": [
    {
     "name": "stdout",
     "output_type": "stream",
     "text": [
      "Loading item: 0\n"
     ]
    }
   ],
   "source": [
    "test_set = Raven(PATH, 'test', fig_types[0])\n",
    "test_set.load_data()"
   ]
  },
  {
   "cell_type": "code",
   "execution_count": 4,
   "metadata": {},
   "outputs": [
    {
     "name": "stdout",
     "output_type": "stream",
     "text": [
      "[255 255 255 255 255 255 255 255 255 255 255 255 255 255 255 255 255 255\n",
      " 255 255 255 255   0   0   0  56  56  56  56  56  56  56  56  56  56  56\n",
      "  56  56  56  56  56  56  56  56  56  56  56  56  56  56  56  56  56  56\n",
      "  56  56  56  56  56  56  56  56  56  56  56  56  56  56  56  56  56  56\n",
      "  56  56  56  56  56  56  56  56  56  56  56  56  56  56  56  56  56  56\n",
      "  56  56  56  56  56  56  56  56  56  56  56  56  56  56  56  56  56  56\n",
      "  56  56  56  56  56  56  56  56  56  56  56  56  56  56  56  56  56  56\n",
      "  56  56  56  56  56  56  56  56  56  56   0   0   0 255 255 255 255 255\n",
      " 255 255 255 255 255 255 255 255 255 255 255 255 255 255 255 255]\n"
     ]
    }
   ],
   "source": [
    "item = test_set.items[0]\n",
    "print(item.images[0][50])"
   ]
  },
  {
   "cell_type": "code",
   "execution_count": 13,
   "metadata": {},
   "outputs": [
    {
     "data": {
      "image/png": "[encoded data removed]",
      "text/plain": [
       "<PIL.Image.Image image mode=RGB size=160x160>"
      ]
     },
     "execution_count": 13,
     "metadata": {},
     "output_type": "execute_result"
    }
   ],
   "source": [
    "test_set.get_puzzle(0)[14]"
   ]
  },
  {
   "cell_type": "code",
   "execution_count": 6,
   "metadata": {},
   "outputs": [],
   "source": [
    "net = CLIP(model_name=\"openai/clip-vit-base-patch32\")"
   ]
  },
  {
   "cell_type": "code",
   "execution_count": 17,
   "metadata": {},
   "outputs": [],
   "source": [
    "template_angle = ['Figure is oriented at {} degrees'.format(value) for value in ANGLES.values()]\n",
    "template_color = ['The color of the figure is {}'.format(value) for value in COLORS.values()]\n",
    "template_sizes = ['The figure is {}'.format(value) for value in SIZES.values()]\n",
    "template_type = ['The figure is shaped as a {}'.format(value) for value in SHAPES.values()]"
   ]
  },
  {
   "cell_type": "code",
   "execution_count": 18,
   "metadata": {},
   "outputs": [],
   "source": [
    "answers = []\n",
    "\n",
    "for i in range(test_set.len()):\n",
    "    puzzle = test_set.get_puzzle(i)\n",
    "    puzzle_answers = {}\n",
    "    for j, c_image in enumerate(puzzle):\n",
    "        inter = {}\n",
    "        inter['Angle'] = (net.forward(c_image, template_angle)).split()[-2]\n",
    "        inter['Color'] = (net.forward(c_image, template_color)).split()[-1]\n",
    "        inter['Size'] = (net.forward(c_image, template_sizes)).split()[-1]\n",
    "        inter['Type'] = (net.forward(c_image, template_type)).split()[-1]\n",
    "        puzzle_answers[j] = inter\n",
    "        \n",
    "    answers.append(puzzle_answers)"
   ]
  },
  {
   "cell_type": "code",
   "execution_count": 19,
   "metadata": {},
   "outputs": [
    {
     "name": "stdout",
     "output_type": "stream",
     "text": [
      "[{0: {'Angle': '180', 'Color': 'purple', 'Size': 'medium', 'Type': 'circle'}, 1: {'Angle': '180', 'Color': 'pink', 'Size': 'medium', 'Type': 'circle'}, 2: {'Angle': '180', 'Color': 'teal', 'Size': 'medium', 'Type': 'circle'}, 3: {'Angle': '45', 'Color': 'red', 'Size': 'medium', 'Type': 'hexagon'}, 4: {'Angle': '45', 'Color': 'orange', 'Size': 'medium', 'Type': 'hexagon'}, 5: {'Angle': '45', 'Color': 'purple', 'Size': 'medium', 'Type': 'hexagon'}, 6: {'Angle': '180', 'Color': 'blue', 'Size': 'medium', 'Type': 'square'}, 7: {'Angle': '180', 'Color': 'yellow', 'Size': 'medium', 'Type': 'square'}, 8: {'Angle': '180', 'Color': 'cyan', 'Size': 'medium', 'Type': 'square'}, 9: {'Angle': '180', 'Color': 'cyan', 'Size': 'medium', 'Type': 'circle'}, 10: {'Angle': '180', 'Color': 'cyan', 'Size': 'medium', 'Type': 'triangle'}, 11: {'Angle': '45', 'Color': 'green', 'Size': 'medium', 'Type': 'square'}, 12: {'Angle': '180', 'Color': 'cyan', 'Size': 'medium', 'Type': 'square'}, 13: {'Angle': '180', 'Color': 'cyan', 'Size': 'medium', 'Type': 'square'}, 14: {'Angle': '45', 'Color': 'red', 'Size': 'medium', 'Type': 'square'}, 15: {'Angle': '180', 'Color': 'pink', 'Size': 'medium', 'Type': 'square'}}]\n"
     ]
    }
   ],
   "source": [
    "print(answers)"
   ]
  },
  {
   "cell_type": "code",
   "execution_count": 10,
   "metadata": {},
   "outputs": [
    {
     "data": {
      "text/plain": [
       "{0: {'Angle': '180',\n",
       "  'Color': 'purple',\n",
       "  'Size': 'extra_large',\n",
       "  'Type': 'circle'},\n",
       " 1: {'Angle': '180', 'Color': 'pink', 'Size': 'extra_large', 'Type': 'circle'},\n",
       " 2: {'Angle': '180', 'Color': 'teal', 'Size': 'extra_large', 'Type': 'circle'},\n",
       " 3: {'Angle': '-135', 'Color': 'brown', 'Size': 'small', 'Type': 'hexagon'},\n",
       " 4: {'Angle': '-135', 'Color': 'orange', 'Size': 'small', 'Type': 'hexagon'},\n",
       " 5: {'Angle': '-135', 'Color': 'purple', 'Size': 'small', 'Type': 'hexagon'},\n",
       " 6: {'Angle': '180', 'Color': 'blue', 'Size': 'huge', 'Type': 'square'},\n",
       " 7: {'Angle': '180', 'Color': 'yellow', 'Size': 'huge', 'Type': 'square'},\n",
       " 8: {'Angle': '180', 'Color': 'cyan', 'Size': 'large', 'Type': 'square'},\n",
       " 9: {'Angle': '180', 'Color': 'cyan', 'Size': 'huge', 'Type': 'circle'},\n",
       " 10: {'Angle': '180', 'Color': 'cyan', 'Size': 'huge', 'Type': 'triangle'},\n",
       " 11: {'Angle': '180', 'Color': 'green', 'Size': 'huge', 'Type': 'square'},\n",
       " 12: {'Angle': '180',\n",
       "  'Color': 'cyan',\n",
       "  'Size': 'extra_large',\n",
       "  'Type': 'square'},\n",
       " 13: {'Angle': '180', 'Color': 'cyan', 'Size': 'huge', 'Type': 'square'},\n",
       " 14: {'Angle': '180', 'Color': 'brown', 'Size': 'huge', 'Type': 'square'},\n",
       " 15: {'Angle': '180', 'Color': 'pink', 'Size': 'huge', 'Type': 'square'}}"
      ]
     },
     "execution_count": 10,
     "metadata": {},
     "output_type": "execute_result"
    }
   ],
   "source": [
    "test_set.get_answers(0)"
   ]
  },
  {
   "cell_type": "code",
   "execution_count": null,
   "metadata": {},
   "outputs": [],
   "source": [
    "test_set.plot_puzzle(0)"
   ]
  }
 ],
 "metadata": {
  "kernelspec": {
   "display_name": "Python 3",
   "language": "python",
   "name": "python3"
  },
  "language_info": {
   "codemirror_mode": {
    "name": "ipython",
    "version": 3
   },
   "file_extension": ".py",
   "mimetype": "text/x-python",
   "name": "python",
   "nbconvert_exporter": "python",
   "pygments_lexer": "ipython3",
   "version": "3.8.0"
  },
  "orig_nbformat": 4
 },
 "nbformat": 4,
 "nbformat_minor": 2
}
