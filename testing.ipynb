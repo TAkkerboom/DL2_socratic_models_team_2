{
 "cells": [
  {
   "cell_type": "code",
   "execution_count": 1,
   "metadata": {},
   "outputs": [],
   "source": [
    "from src.dataset import Raven\n",
    "from src.model import CLIP\n",
    "from PIL import Image\n",
    "import numpy as np\n",
    "import requests\n",
    "import matplotlib.pyplot as plt\n",
    "\n",
    "%matplotlib inline"
   ]
  },
  {
   "cell_type": "code",
   "execution_count": 2,
   "metadata": {},
   "outputs": [],
   "source": [
    "PATH = './dataset/RAVEN-10000/'\n",
    "fig_types = ['center_single']"
   ]
  },
  {
   "cell_type": "code",
   "execution_count": 3,
   "metadata": {},
   "outputs": [
    {
     "name": "stdout",
     "output_type": "stream",
     "text": [
      "Loading item: 0\n"
     ]
    }
   ],
   "source": [
    "test_set = Raven(PATH, 'test', fig_types[0])\n",
    "test_set.load_data()"
   ]
  },
  {
   "cell_type": "code",
   "execution_count": 4,
   "metadata": {},
   "outputs": [],
   "source": [
    "net = CLIP(model_name=\"openai/clip-vit-base-patch32\")"
   ]
  },
  {
   "cell_type": "code",
   "execution_count": 5,
   "metadata": {},
   "outputs": [],
   "source": [
    "answers = []\n",
    "\n",
    "for i in range(test_set.len()):\n",
    "    puzzle = test_set.get_puzzle(i)\n",
    "    puzzle_answers = {}\n",
    "    for j, c_image in enumerate(puzzle):\n",
    "        inter = {}\n",
    "        # inter['Angle'] = net.forward(c_image, 'At what angle is the figure located? The options are: -135, 90, -45, 0, 45, 90, 135, 180')\n",
    "        # inter['Color'] = net.forward(c_image, 'What is the color value of the figure? ')\n",
    "        # inter['Size'] = net.forward(c_image, 'What is the size of the figure? The options are: 0.4, 0.5, 0.6, 0.7, 0.8, 0.9')\n",
    "        inter['Type'] = net.forward(c_image, ['triangle', 'square', 'pentagon', 'hexagon', 'circle'])\n",
    "        puzzle_answers[j] = inter\n",
    "        \n",
    "    answers.append(puzzle_answers)"
   ]
  },
  {
   "cell_type": "code",
   "execution_count": 6,
   "metadata": {},
   "outputs": [
    {
     "name": "stdout",
     "output_type": "stream",
     "text": [
      "{0: {'Type': 'circle'}, 1: {'Type': 'circle'}, 2: {'Type': 'circle'}, 3: {'Type': 'hexagon'}, 4: {'Type': 'hexagon'}, 5: {'Type': 'hexagon'}, 6: {'Type': 'square'}, 7: {'Type': 'square'}, 8: {'Type': 'square'}, 9: {'Type': 'circle'}, 10: {'Type': 'triangle'}, 11: {'Type': 'square'}, 12: {'Type': 'square'}, 13: {'Type': 'square'}, 14: {'Type': 'square'}, 15: {'Type': 'square'}}\n"
     ]
    }
   ],
   "source": [
    "print(answers[0])"
   ]
  },
  {
   "cell_type": "code",
   "execution_count": 7,
   "metadata": {},
   "outputs": [
    {
     "data": {
      "text/plain": [
       "{0: {'Angle': '180', 'Color': 56, 'Size': 0.8, 'Type': 'circle'},\n",
       " 1: {'Angle': '180', 'Color': 28, 'Size': 0.8, 'Type': 'circle'},\n",
       " 2: {'Angle': '180', 'Color': 0, 'Size': 0.8, 'Type': 'circle'},\n",
       " 3: {'Angle': '-135', 'Color': 112, 'Size': 0.5, 'Type': 'hexagon'},\n",
       " 4: {'Angle': '-135', 'Color': 84, 'Size': 0.5, 'Type': 'hexagon'},\n",
       " 5: {'Angle': '-135', 'Color': 56, 'Size': 0.5, 'Type': 'hexagon'},\n",
       " 6: {'Angle': '180', 'Color': 196, 'Size': 0.9, 'Type': 'square'},\n",
       " 7: {'Angle': '180', 'Color': 168, 'Size': 0.9, 'Type': 'square'},\n",
       " 8: {'Angle': '180', 'Color': 140, 'Size': 0.7, 'Type': 'square'},\n",
       " 9: {'Angle': '180', 'Color': 140, 'Size': 0.9, 'Type': 'circle'},\n",
       " 10: {'Angle': '180', 'Color': 140, 'Size': 0.9, 'Type': 'triangle'},\n",
       " 11: {'Angle': '180', 'Color': 224, 'Size': 0.9, 'Type': 'square'},\n",
       " 12: {'Angle': '180', 'Color': 140, 'Size': 0.8, 'Type': 'square'},\n",
       " 13: {'Angle': '180', 'Color': 140, 'Size': 0.9, 'Type': 'square'},\n",
       " 14: {'Angle': '180', 'Color': 112, 'Size': 0.9, 'Type': 'square'},\n",
       " 15: {'Angle': '180', 'Color': 28, 'Size': 0.9, 'Type': 'square'}}"
      ]
     },
     "execution_count": 7,
     "metadata": {},
     "output_type": "execute_result"
    }
   ],
   "source": [
    "test_set.get_answers(0)"
   ]
  },
  {
   "cell_type": "code",
   "execution_count": null,
   "metadata": {},
   "outputs": [],
   "source": [
    "test_set.plot_puzzle(0)"
   ]
  }
 ],
 "metadata": {
  "kernelspec": {
   "display_name": "Python 3",
   "language": "python",
   "name": "python3"
  },
  "language_info": {
   "codemirror_mode": {
    "name": "ipython",
    "version": 3
   },
   "file_extension": ".py",
   "mimetype": "text/x-python",
   "name": "python",
   "nbconvert_exporter": "python",
   "pygments_lexer": "ipython3",
   "version": "3.8.0"
  },
  "orig_nbformat": 4
 },
 "nbformat": 4,
 "nbformat_minor": 2
}
