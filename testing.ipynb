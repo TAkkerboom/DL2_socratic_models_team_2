{
 "cells": [
  {
   "cell_type": "code",
   "execution_count": 1,
   "metadata": {},
   "outputs": [],
   "source": [
    "\n",
    "from src.dataset import Raven\n",
    "from src.model import CLIP\n",
    "from PIL import Image\n",
    "import numpy as np\n",
    "import requests\n",
    "import matplotlib.pyplot as plt\n",
    "import cv2\n",
    "from src.const import SHAPES, ANGLES, SIZES, COLORS\n",
    "\n",
    "%matplotlib inline"
   ]
  },
  {
   "cell_type": "code",
   "execution_count": 2,
   "metadata": {},
   "outputs": [],
   "source": [
    "PATH = './dataset/RAVEN-10000/'\n",
    "fig_types = ['center_single']"
   ]
  },
  {
   "cell_type": "code",
   "execution_count": 3,
   "metadata": {},
   "outputs": [
    {
     "name": "stdout",
     "output_type": "stream",
     "text": [
      "Loading item: 0\n"
     ]
    }
   ],
   "source": [
    "test_set = Raven(PATH, 'test', fig_types[0])\n",
    "test_set.load_data()"
   ]
  },
  {
   "cell_type": "code",
   "execution_count": 23,
   "metadata": {},
   "outputs": [
    {
     "data": {
      "image/png": "[encoded data removed]",
      "text/plain": [
       "<PIL.Image.Image image mode=RGB size=160x160>"
      ]
     },
     "execution_count": 23,
     "metadata": {},
     "output_type": "execute_result"
    }
   ],
   "source": [
    "test_set.get_puzzle(0)[3]"
   ]
  },
  {
   "cell_type": "code",
   "execution_count": 5,
   "metadata": {},
   "outputs": [],
   "source": [
    "net = CLIP(model_name=\"openai/clip-vit-base-patch32\")"
   ]
  },
  {
   "cell_type": "code",
   "execution_count": 188,
   "metadata": {},
   "outputs": [],
   "source": [
    "template_type = ['The figure is shaped as a {}'.format(value) for value in SHAPES.values()]\n",
    "template_color = ['The color of the figure is {}'.format(value) for value in COLORS.values()]\n",
    "# 'The figure is rotated by {} degrees'\n",
    "template_angle = ['The figure is rotated by {} degrees'.format(value) for value in ANGLES.values()]\n",
    "template_sizes = ['The proportion of the image covered by the figure is {}'.format(value) for value in SIZES.values()]"
   ]
  },
  {
   "cell_type": "code",
   "execution_count": 189,
   "metadata": {},
   "outputs": [],
   "source": [
    "answers = []\n",
    "\n",
    "for i in range(test_set.len()):\n",
    "    puzzle = test_set.get_puzzle(i)\n",
    "    puzzle_answers = {}\n",
    "    for j, c_image in enumerate(puzzle):\n",
    "        inter = {}\n",
    "        inter['Type'] = (net.forward(c_image, template_type)).split()[-1]\n",
    "        inter['Color'] = (net.forward(c_image, template_color)).split()[-1]\n",
    "        \n",
    "        inter['Angle'] = (net.forward(c_image, template_angle)).split()[-1]\n",
    "        inter['Size'] = (net.forward(c_image, template_sizes)).split()[-1]\n",
    "        \n",
    "        puzzle_answers[j] = inter\n",
    "        \n",
    "    answers.append(puzzle_answers)"
   ]
  },
  {
   "cell_type": "code",
   "execution_count": 190,
   "metadata": {},
   "outputs": [
    {
     "data": {
      "text/plain": [
       "{0: {'Type': 'circle', 'Color': 'purple', 'Angle': 'degrees', 'Size': '0.4'},\n",
       " 1: {'Type': 'circle', 'Color': 'pink', 'Angle': 'degrees', 'Size': '0.4'},\n",
       " 2: {'Type': 'circle', 'Color': 'teal', 'Angle': 'degrees', 'Size': '0.4'},\n",
       " 3: {'Type': 'hexagon', 'Color': 'brown', 'Angle': 'degrees', 'Size': '0.4'},\n",
       " 4: {'Type': 'hexagon', 'Color': 'orange', 'Angle': 'degrees', 'Size': '0.8'},\n",
       " 5: {'Type': 'hexagon', 'Color': 'purple', 'Angle': 'degrees', 'Size': '0.8'},\n",
       " 6: {'Type': 'square', 'Color': 'blue', 'Angle': 'degrees', 'Size': '0.4'},\n",
       " 7: {'Type': 'square', 'Color': 'yellow', 'Angle': 'degrees', 'Size': '0.4'},\n",
       " 8: {'Type': 'square', 'Color': 'cyan', 'Angle': 'degrees', 'Size': '0.7'},\n",
       " 9: {'Type': 'circle', 'Color': 'cyan', 'Angle': 'degrees', 'Size': '0.4'},\n",
       " 10: {'Type': 'triangle', 'Color': 'cyan', 'Angle': 'degrees', 'Size': '0.7'},\n",
       " 11: {'Type': 'square', 'Color': 'green', 'Angle': 'degrees', 'Size': '0.4'},\n",
       " 12: {'Type': 'square', 'Color': 'cyan', 'Angle': 'degrees', 'Size': '0.4'},\n",
       " 13: {'Type': 'square', 'Color': 'cyan', 'Angle': 'degrees', 'Size': '0.4'},\n",
       " 14: {'Type': 'square', 'Color': 'brown', 'Angle': 'degrees', 'Size': '0.4'},\n",
       " 15: {'Type': 'square', 'Color': 'pink', 'Angle': 'degrees', 'Size': '0.4'}}"
      ]
     },
     "execution_count": 190,
     "metadata": {},
     "output_type": "execute_result"
    }
   ],
   "source": [
    "answers[0]"
   ]
  },
  {
   "cell_type": "code",
   "execution_count": 9,
   "metadata": {},
   "outputs": [
    {
     "data": {
      "text/plain": [
       "{0: {'Type': 'circle', 'Color': 'purple', 'Angle': '180', 'Size': 0.8},\n",
       " 1: {'Type': 'circle', 'Color': 'pink', 'Angle': '180', 'Size': 0.8},\n",
       " 2: {'Type': 'circle', 'Color': 'teal', 'Angle': '180', 'Size': 0.8},\n",
       " 3: {'Type': 'hexagon', 'Color': 'brown', 'Angle': '-135', 'Size': 0.5},\n",
       " 4: {'Type': 'hexagon', 'Color': 'orange', 'Angle': '-135', 'Size': 0.5},\n",
       " 5: {'Type': 'hexagon', 'Color': 'purple', 'Angle': '-135', 'Size': 0.5},\n",
       " 6: {'Type': 'square', 'Color': 'blue', 'Angle': '180', 'Size': 0.9},\n",
       " 7: {'Type': 'square', 'Color': 'yellow', 'Angle': '180', 'Size': 0.9},\n",
       " 8: {'Type': 'square', 'Color': 'cyan', 'Angle': '180', 'Size': 0.7},\n",
       " 9: {'Type': 'circle', 'Color': 'cyan', 'Angle': '180', 'Size': 0.9},\n",
       " 10: {'Type': 'triangle', 'Color': 'cyan', 'Angle': '180', 'Size': 0.9},\n",
       " 11: {'Type': 'square', 'Color': 'green', 'Angle': '180', 'Size': 0.9},\n",
       " 12: {'Type': 'square', 'Color': 'cyan', 'Angle': '180', 'Size': 0.8},\n",
       " 13: {'Type': 'square', 'Color': 'cyan', 'Angle': '180', 'Size': 0.9},\n",
       " 14: {'Type': 'square', 'Color': 'brown', 'Angle': '180', 'Size': 0.9},\n",
       " 15: {'Type': 'square', 'Color': 'pink', 'Angle': '180', 'Size': 0.9}}"
      ]
     },
     "execution_count": 9,
     "metadata": {},
     "output_type": "execute_result"
    }
   ],
   "source": [
    "test_set.get_answers(0)"
   ]
  },
  {
   "cell_type": "code",
   "execution_count": 10,
   "metadata": {},
   "outputs": [
    {
     "data": {
      "image/png": "[encoded data removed]",
      "text/plain": [
       "<Figure size 640x480 with 1 Axes>"
      ]
     },
     "metadata": {},
     "output_type": "display_data"
    }
   ],
   "source": [
    "test_set.plot_puzzle(0)"
   ]
  },
  {
   "cell_type": "code",
   "execution_count": null,
   "metadata": {},
   "outputs": [],
   "source": []
  }
 ],
 "metadata": {
  "kernelspec": {
   "display_name": "Python 3",
   "language": "python",
   "name": "python3"
  },
  "language_info": {
   "codemirror_mode": {
    "name": "ipython",
    "version": 3
   },
   "file_extension": ".py",
   "mimetype": "text/x-python",
   "name": "python",
   "nbconvert_exporter": "python",
   "pygments_lexer": "ipython3",
   "version": "3.8.0"
  },
  "orig_nbformat": 4
 },
 "nbformat": 4,
 "nbformat_minor": 2
}
